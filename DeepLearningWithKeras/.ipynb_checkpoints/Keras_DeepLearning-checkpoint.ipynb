{
 "cells": [
  {
   "cell_type": "code",
   "execution_count": 1,
   "id": "66fe1020",
   "metadata": {},
   "outputs": [],
   "source": [
    "# Keras Tutorial Overview\n",
    "\n",
    "# The steps you will learn in this tutorial are as follows:\n",
    "\n",
    "# Load Data\n",
    "# Define Keras Model\n",
    "# Compile Keras Model\n",
    "# Fit Keras Model\n",
    "# Evaluate Keras Model\n",
    "# Tie It All Together\n",
    "# Make Predictions"
   ]
  },
  {
   "cell_type": "code",
   "execution_count": 2,
   "id": "88173f5e",
   "metadata": {},
   "outputs": [],
   "source": [
    "# first neural network with keras tutorial\n",
    "from numpy import loadtxt\n",
    "from tensorflow.keras.models import Sequential\n",
    "from tensorflow.keras.layers import Dense"
   ]
  },
  {
   "cell_type": "code",
   "execution_count": 3,
   "id": "fe21eebc",
   "metadata": {},
   "outputs": [],
   "source": [
    "# load the dataset\n",
    "dataset = loadtxt('pima-indians-diabetes.data.txt', delimiter=',')\n",
    "# split into input (X) and output (y) variables\n",
    "X = dataset[:,0:8]\n",
    "y = dataset[:,8]"
   ]
  },
  {
   "cell_type": "code",
   "execution_count": 5,
   "id": "4f430d9a",
   "metadata": {},
   "outputs": [
    {
     "data": {
      "text/plain": [
       "array([[  6.   , 148.   ,  72.   , ...,   0.627,  50.   ,   1.   ],\n",
       "       [  1.   ,  85.   ,  66.   , ...,   0.351,  31.   ,   0.   ],\n",
       "       [  8.   , 183.   ,  64.   , ...,   0.672,  32.   ,   1.   ],\n",
       "       ...,\n",
       "       [  5.   , 121.   ,  72.   , ...,   0.245,  30.   ,   0.   ],\n",
       "       [  1.   , 126.   ,  60.   , ...,   0.349,  47.   ,   1.   ],\n",
       "       [  1.   ,  93.   ,  70.   , ...,   0.315,  23.   ,   0.   ]])"
      ]
     },
     "execution_count": 5,
     "metadata": {},
     "output_type": "execute_result"
    }
   ],
   "source": [
    "dataset"
   ]
  },
  {
   "cell_type": "code",
   "execution_count": 6,
   "id": "057cedca",
   "metadata": {},
   "outputs": [],
   "source": [
    "# define the keras model\n",
    "model = Sequential()\n",
    "model.add(Dense(12, input_shape=(8,), activation='relu'))\n",
    "model.add(Dense(8, activation='relu'))\n",
    "model.add(Dense(1, activation='sigmoid'))"
   ]
  },
  {
   "cell_type": "code",
   "execution_count": 12,
   "id": "3e0e791b",
   "metadata": {},
   "outputs": [],
   "source": [
    "# compile the keras model\n",
    "model.compile(loss='binary_crossentropy', optimizer='adam', metrics=['accuracy'])"
   ]
  },
  {
   "cell_type": "code",
   "execution_count": 13,
   "id": "98a0e342",
   "metadata": {},
   "outputs": [
    {
     "name": "stdout",
     "output_type": "stream",
     "text": [
      "Model: \"sequential\"\n",
      "_________________________________________________________________\n",
      " Layer (type)                Output Shape              Param #   \n",
      "=================================================================\n",
      " dense (Dense)               (None, 12)                108       \n",
      "                                                                 \n",
      " dense_1 (Dense)             (None, 8)                 104       \n",
      "                                                                 \n",
      " dense_2 (Dense)             (None, 1)                 9         \n",
      "                                                                 \n",
      "=================================================================\n",
      "Total params: 221\n",
      "Trainable params: 221\n",
      "Non-trainable params: 0\n",
      "_________________________________________________________________\n"
     ]
    }
   ],
   "source": [
    "model.summary()"
   ]
  },
  {
   "cell_type": "code",
   "execution_count": 14,
   "id": "4b3d6624",
   "metadata": {},
   "outputs": [
    {
     "name": "stdout",
     "output_type": "stream",
     "text": [
      "Epoch 1/150\n",
      "77/77 [==============================] - 1s 737us/step - loss: 8.0165 - accuracy: 0.5859\n",
      "Epoch 2/150\n",
      "77/77 [==============================] - 0s 685us/step - loss: 2.4099 - accuracy: 0.4766\n",
      "Epoch 3/150\n",
      "77/77 [==============================] - 0s 711us/step - loss: 0.8906 - accuracy: 0.5169\n",
      "Epoch 4/150\n",
      "77/77 [==============================] - 0s 684us/step - loss: 0.7279 - accuracy: 0.5664\n",
      "Epoch 5/150\n",
      "77/77 [==============================] - 0s 727us/step - loss: 0.6815 - accuracy: 0.5898\n",
      "Epoch 6/150\n",
      "77/77 [==============================] - 0s 711us/step - loss: 0.6623 - accuracy: 0.6185\n",
      "Epoch 7/150\n",
      "77/77 [==============================] - 0s 717us/step - loss: 0.6403 - accuracy: 0.6393\n",
      "Epoch 8/150\n",
      "77/77 [==============================] - 0s 697us/step - loss: 0.6309 - accuracy: 0.6641\n",
      "Epoch 9/150\n",
      "77/77 [==============================] - 0s 704us/step - loss: 0.6183 - accuracy: 0.6836\n",
      "Epoch 10/150\n",
      "77/77 [==============================] - 0s 691us/step - loss: 0.6132 - accuracy: 0.6732\n",
      "Epoch 11/150\n",
      "77/77 [==============================] - 0s 711us/step - loss: 0.6044 - accuracy: 0.6823\n",
      "Epoch 12/150\n",
      "77/77 [==============================] - 0s 704us/step - loss: 0.6141 - accuracy: 0.6536\n",
      "Epoch 13/150\n",
      "77/77 [==============================] - 0s 717us/step - loss: 0.6052 - accuracy: 0.6745\n",
      "Epoch 14/150\n",
      "77/77 [==============================] - 0s 704us/step - loss: 0.5994 - accuracy: 0.6849\n",
      "Epoch 15/150\n",
      "77/77 [==============================] - 0s 718us/step - loss: 0.5937 - accuracy: 0.6953\n",
      "Epoch 16/150\n",
      "77/77 [==============================] - 0s 658us/step - loss: 0.5900 - accuracy: 0.6758\n",
      "Epoch 17/150\n",
      "77/77 [==============================] - 0s 651us/step - loss: 0.5868 - accuracy: 0.6810\n",
      "Epoch 18/150\n",
      "77/77 [==============================] - 0s 652us/step - loss: 0.5968 - accuracy: 0.6888\n",
      "Epoch 19/150\n",
      "77/77 [==============================] - 0s 651us/step - loss: 0.5913 - accuracy: 0.6862\n",
      "Epoch 20/150\n",
      "77/77 [==============================] - 0s 645us/step - loss: 0.5850 - accuracy: 0.6940\n",
      "Epoch 21/150\n",
      "77/77 [==============================] - 0s 651us/step - loss: 0.5794 - accuracy: 0.6914\n",
      "Epoch 22/150\n",
      "77/77 [==============================] - 0s 698us/step - loss: 0.5801 - accuracy: 0.6888\n",
      "Epoch 23/150\n",
      "77/77 [==============================] - 0s 697us/step - loss: 0.5821 - accuracy: 0.7005\n",
      "Epoch 24/150\n",
      "77/77 [==============================] - 0s 731us/step - loss: 0.5816 - accuracy: 0.6914\n",
      "Epoch 25/150\n",
      "77/77 [==============================] - 0s 691us/step - loss: 0.5914 - accuracy: 0.6966\n",
      "Epoch 26/150\n",
      "77/77 [==============================] - 0s 698us/step - loss: 0.5827 - accuracy: 0.6953\n",
      "Epoch 27/150\n",
      "77/77 [==============================] - 0s 684us/step - loss: 0.5795 - accuracy: 0.7044\n",
      "Epoch 28/150\n",
      "77/77 [==============================] - 0s 730us/step - loss: 0.5784 - accuracy: 0.7161\n",
      "Epoch 29/150\n",
      "77/77 [==============================] - 0s 704us/step - loss: 0.5704 - accuracy: 0.7005\n",
      "Epoch 30/150\n",
      "77/77 [==============================] - 0s 700us/step - loss: 0.5895 - accuracy: 0.6810\n",
      "Epoch 31/150\n",
      "77/77 [==============================] - 0s 704us/step - loss: 0.5838 - accuracy: 0.6888\n",
      "Epoch 32/150\n",
      "77/77 [==============================] - 0s 658us/step - loss: 0.5698 - accuracy: 0.7083\n",
      "Epoch 33/150\n",
      "77/77 [==============================] - 0s 658us/step - loss: 0.5702 - accuracy: 0.7057\n",
      "Epoch 34/150\n",
      "77/77 [==============================] - 0s 691us/step - loss: 0.5736 - accuracy: 0.6979\n",
      "Epoch 35/150\n",
      "77/77 [==============================] - 0s 634us/step - loss: 0.5648 - accuracy: 0.7070\n",
      "Epoch 36/150\n",
      "77/77 [==============================] - 0s 638us/step - loss: 0.5677 - accuracy: 0.7122\n",
      "Epoch 37/150\n",
      "77/77 [==============================] - 0s 658us/step - loss: 0.5679 - accuracy: 0.7096\n",
      "Epoch 38/150\n",
      "77/77 [==============================] - 0s 638us/step - loss: 0.5633 - accuracy: 0.7057\n",
      "Epoch 39/150\n",
      "77/77 [==============================] - 0s 684us/step - loss: 0.5646 - accuracy: 0.7083\n",
      "Epoch 40/150\n",
      "77/77 [==============================] - 0s 704us/step - loss: 0.5694 - accuracy: 0.6979\n",
      "Epoch 41/150\n",
      "77/77 [==============================] - 0s 711us/step - loss: 0.5602 - accuracy: 0.7174\n",
      "Epoch 42/150\n",
      "77/77 [==============================] - 0s 711us/step - loss: 0.5601 - accuracy: 0.7109\n",
      "Epoch 43/150\n",
      "77/77 [==============================] - 0s 664us/step - loss: 0.5700 - accuracy: 0.7148\n",
      "Epoch 44/150\n",
      "77/77 [==============================] - 0s 652us/step - loss: 0.5712 - accuracy: 0.7070\n",
      "Epoch 45/150\n",
      "77/77 [==============================] - 0s 658us/step - loss: 0.5584 - accuracy: 0.7148\n",
      "Epoch 46/150\n",
      "77/77 [==============================] - 0s 645us/step - loss: 0.5539 - accuracy: 0.7161\n",
      "Epoch 47/150\n",
      "77/77 [==============================] - 0s 658us/step - loss: 0.5569 - accuracy: 0.7083\n",
      "Epoch 48/150\n",
      "77/77 [==============================] - 0s 661us/step - loss: 0.5551 - accuracy: 0.7279\n",
      "Epoch 49/150\n",
      "77/77 [==============================] - 0s 691us/step - loss: 0.5531 - accuracy: 0.7174\n",
      "Epoch 50/150\n",
      "77/77 [==============================] - 0s 652us/step - loss: 0.5779 - accuracy: 0.7018\n",
      "Epoch 51/150\n",
      "77/77 [==============================] - 0s 691us/step - loss: 0.5668 - accuracy: 0.7214\n",
      "Epoch 52/150\n",
      "77/77 [==============================] - 0s 684us/step - loss: 0.5635 - accuracy: 0.7109\n",
      "Epoch 53/150\n",
      "77/77 [==============================] - 0s 651us/step - loss: 0.5509 - accuracy: 0.7174\n",
      "Epoch 54/150\n",
      "77/77 [==============================] - 0s 651us/step - loss: 0.5556 - accuracy: 0.7188\n",
      "Epoch 55/150\n",
      "77/77 [==============================] - 0s 638us/step - loss: 0.5498 - accuracy: 0.7240\n",
      "Epoch 56/150\n",
      "77/77 [==============================] - 0s 629us/step - loss: 0.5484 - accuracy: 0.7135\n",
      "Epoch 57/150\n",
      "77/77 [==============================] - 0s 645us/step - loss: 0.5522 - accuracy: 0.7227\n",
      "Epoch 58/150\n",
      "77/77 [==============================] - 0s 651us/step - loss: 0.5504 - accuracy: 0.7174\n",
      "Epoch 59/150\n",
      "77/77 [==============================] - 0s 684us/step - loss: 0.5418 - accuracy: 0.7240\n",
      "Epoch 60/150\n",
      "77/77 [==============================] - 0s 658us/step - loss: 0.5386 - accuracy: 0.7305\n",
      "Epoch 61/150\n",
      "77/77 [==============================] - 0s 665us/step - loss: 0.5447 - accuracy: 0.7292\n",
      "Epoch 62/150\n",
      "77/77 [==============================] - 0s 664us/step - loss: 0.5489 - accuracy: 0.7148\n",
      "Epoch 63/150\n",
      "77/77 [==============================] - 0s 632us/step - loss: 0.5470 - accuracy: 0.7279\n",
      "Epoch 64/150\n",
      "77/77 [==============================] - 0s 645us/step - loss: 0.5533 - accuracy: 0.7422\n",
      "Epoch 65/150\n",
      "77/77 [==============================] - 0s 684us/step - loss: 0.5402 - accuracy: 0.7292\n",
      "Epoch 66/150\n",
      "77/77 [==============================] - 0s 691us/step - loss: 0.5433 - accuracy: 0.7214\n",
      "Epoch 67/150\n",
      "77/77 [==============================] - 0s 678us/step - loss: 0.5316 - accuracy: 0.7487\n",
      "Epoch 68/150\n",
      "77/77 [==============================] - 0s 717us/step - loss: 0.5352 - accuracy: 0.7266\n",
      "Epoch 69/150\n",
      "77/77 [==============================] - 0s 711us/step - loss: 0.5365 - accuracy: 0.7266\n",
      "Epoch 70/150\n",
      "77/77 [==============================] - 0s 651us/step - loss: 0.5260 - accuracy: 0.7370\n",
      "Epoch 71/150\n",
      "77/77 [==============================] - 0s 638us/step - loss: 0.5296 - accuracy: 0.7461\n",
      "Epoch 72/150\n",
      "77/77 [==============================] - 0s 638us/step - loss: 0.5354 - accuracy: 0.7344\n",
      "Epoch 73/150\n",
      "77/77 [==============================] - 0s 660us/step - loss: 0.5345 - accuracy: 0.7409\n",
      "Epoch 74/150\n",
      "77/77 [==============================] - 0s 658us/step - loss: 0.5348 - accuracy: 0.7240\n",
      "Epoch 75/150\n",
      "77/77 [==============================] - 0s 658us/step - loss: 0.5408 - accuracy: 0.7357\n",
      "Epoch 76/150\n",
      "77/77 [==============================] - 0s 645us/step - loss: 0.5281 - accuracy: 0.7448\n",
      "Epoch 77/150\n",
      "77/77 [==============================] - 0s 651us/step - loss: 0.5364 - accuracy: 0.7305\n",
      "Epoch 78/150\n",
      "77/77 [==============================] - 0s 649us/step - loss: 0.5241 - accuracy: 0.7604\n",
      "Epoch 79/150\n",
      "77/77 [==============================] - 0s 684us/step - loss: 0.5246 - accuracy: 0.7357\n",
      "Epoch 80/150\n",
      "77/77 [==============================] - 0s 704us/step - loss: 0.5218 - accuracy: 0.7409\n",
      "Epoch 81/150\n"
     ]
    },
    {
     "name": "stdout",
     "output_type": "stream",
     "text": [
      "77/77 [==============================] - 0s 717us/step - loss: 0.5246 - accuracy: 0.7305\n",
      "Epoch 82/150\n",
      "77/77 [==============================] - 0s 658us/step - loss: 0.5336 - accuracy: 0.7604\n",
      "Epoch 83/150\n",
      "77/77 [==============================] - 0s 659us/step - loss: 0.5255 - accuracy: 0.7435\n",
      "Epoch 84/150\n",
      "77/77 [==============================] - 0s 691us/step - loss: 0.5144 - accuracy: 0.7513\n",
      "Epoch 85/150\n",
      "77/77 [==============================] - 0s 717us/step - loss: 0.5293 - accuracy: 0.7539\n",
      "Epoch 86/150\n",
      "77/77 [==============================] - 0s 691us/step - loss: 0.5240 - accuracy: 0.7500\n",
      "Epoch 87/150\n",
      "77/77 [==============================] - 0s 704us/step - loss: 0.5162 - accuracy: 0.7461\n",
      "Epoch 88/150\n",
      "77/77 [==============================] - 0s 664us/step - loss: 0.5127 - accuracy: 0.7474\n",
      "Epoch 89/150\n",
      "77/77 [==============================] - 0s 643us/step - loss: 0.5157 - accuracy: 0.7513\n",
      "Epoch 90/150\n",
      "77/77 [==============================] - 0s 651us/step - loss: 0.5166 - accuracy: 0.7500\n",
      "Epoch 91/150\n",
      "77/77 [==============================] - 0s 678us/step - loss: 0.5100 - accuracy: 0.7539\n",
      "Epoch 92/150\n",
      "77/77 [==============================] - 0s 671us/step - loss: 0.5108 - accuracy: 0.7669\n",
      "Epoch 93/150\n",
      "77/77 [==============================] - 0s 704us/step - loss: 0.5105 - accuracy: 0.7617\n",
      "Epoch 94/150\n",
      "77/77 [==============================] - 0s 697us/step - loss: 0.5115 - accuracy: 0.7448\n",
      "Epoch 95/150\n",
      "77/77 [==============================] - 0s 638us/step - loss: 0.5369 - accuracy: 0.7266\n",
      "Epoch 96/150\n",
      "77/77 [==============================] - 0s 655us/step - loss: 0.5254 - accuracy: 0.7539\n",
      "Epoch 97/150\n",
      "77/77 [==============================] - 0s 667us/step - loss: 0.5128 - accuracy: 0.7526\n",
      "Epoch 98/150\n",
      "77/77 [==============================] - 0s 658us/step - loss: 0.5106 - accuracy: 0.7565\n",
      "Epoch 99/150\n",
      "77/77 [==============================] - 0s 691us/step - loss: 0.4995 - accuracy: 0.7461\n",
      "Epoch 100/150\n",
      "77/77 [==============================] - 0s 651us/step - loss: 0.5028 - accuracy: 0.7669\n",
      "Epoch 101/150\n",
      "77/77 [==============================] - 0s 665us/step - loss: 0.5062 - accuracy: 0.7604\n",
      "Epoch 102/150\n",
      "77/77 [==============================] - 0s 645us/step - loss: 0.5295 - accuracy: 0.7396\n",
      "Epoch 103/150\n",
      "77/77 [==============================] - 0s 645us/step - loss: 0.5038 - accuracy: 0.7461\n",
      "Epoch 104/150\n",
      "77/77 [==============================] - 0s 684us/step - loss: 0.5079 - accuracy: 0.7721\n",
      "Epoch 105/150\n",
      "77/77 [==============================] - 0s 664us/step - loss: 0.5023 - accuracy: 0.7513\n",
      "Epoch 106/150\n",
      "77/77 [==============================] - 0s 665us/step - loss: 0.5030 - accuracy: 0.7643\n",
      "Epoch 107/150\n",
      "77/77 [==============================] - 0s 654us/step - loss: 0.4982 - accuracy: 0.7799\n",
      "Epoch 108/150\n",
      "77/77 [==============================] - 0s 678us/step - loss: 0.4945 - accuracy: 0.7630\n",
      "Epoch 109/150\n",
      "77/77 [==============================] - 0s 671us/step - loss: 0.4968 - accuracy: 0.7682\n",
      "Epoch 110/150\n",
      "77/77 [==============================] - 0s 652us/step - loss: 0.4977 - accuracy: 0.7760\n",
      "Epoch 111/150\n",
      "77/77 [==============================] - 0s 690us/step - loss: 0.5156 - accuracy: 0.7487\n",
      "Epoch 112/150\n",
      "77/77 [==============================] - 0s 632us/step - loss: 0.4991 - accuracy: 0.7773\n",
      "Epoch 113/150\n",
      "77/77 [==============================] - 0s 691us/step - loss: 0.5040 - accuracy: 0.7539\n",
      "Epoch 114/150\n",
      "77/77 [==============================] - 0s 645us/step - loss: 0.5332 - accuracy: 0.7552\n",
      "Epoch 115/150\n",
      "77/77 [==============================] - 0s 664us/step - loss: 0.4915 - accuracy: 0.7656\n",
      "Epoch 116/150\n",
      "77/77 [==============================] - 0s 678us/step - loss: 0.5086 - accuracy: 0.7630\n",
      "Epoch 117/150\n",
      "77/77 [==============================] - 0s 658us/step - loss: 0.4938 - accuracy: 0.7682\n",
      "Epoch 118/150\n",
      "77/77 [==============================] - 0s 684us/step - loss: 0.4881 - accuracy: 0.7526\n",
      "Epoch 119/150\n",
      "77/77 [==============================] - 0s 638us/step - loss: 0.4894 - accuracy: 0.7747\n",
      "Epoch 120/150\n",
      "77/77 [==============================] - 0s 651us/step - loss: 0.5061 - accuracy: 0.7591\n",
      "Epoch 121/150\n",
      "77/77 [==============================] - 0s 658us/step - loss: 0.4831 - accuracy: 0.7721\n",
      "Epoch 122/150\n",
      "77/77 [==============================] - 0s 684us/step - loss: 0.4970 - accuracy: 0.7643\n",
      "Epoch 123/150\n",
      "77/77 [==============================] - 0s 684us/step - loss: 0.4892 - accuracy: 0.7734\n",
      "Epoch 124/150\n",
      "77/77 [==============================] - 0s 664us/step - loss: 0.4888 - accuracy: 0.7773\n",
      "Epoch 125/150\n",
      "77/77 [==============================] - 0s 684us/step - loss: 0.4924 - accuracy: 0.7721\n",
      "Epoch 126/150\n",
      "77/77 [==============================] - 0s 658us/step - loss: 0.4886 - accuracy: 0.7708\n",
      "Epoch 127/150\n",
      "77/77 [==============================] - 0s 638us/step - loss: 0.4825 - accuracy: 0.7656\n",
      "Epoch 128/150\n",
      "77/77 [==============================] - 0s 638us/step - loss: 0.4938 - accuracy: 0.7643\n",
      "Epoch 129/150\n",
      "77/77 [==============================] - 0s 655us/step - loss: 0.4886 - accuracy: 0.7812\n",
      "Epoch 130/150\n",
      "77/77 [==============================] - 0s 658us/step - loss: 0.4903 - accuracy: 0.7747\n",
      "Epoch 131/150\n",
      "77/77 [==============================] - 0s 645us/step - loss: 0.4892 - accuracy: 0.7760\n",
      "Epoch 132/150\n",
      "77/77 [==============================] - 0s 632us/step - loss: 0.4853 - accuracy: 0.7669\n",
      "Epoch 133/150\n",
      "77/77 [==============================] - 0s 665us/step - loss: 0.4881 - accuracy: 0.7669\n",
      "Epoch 134/150\n",
      "77/77 [==============================] - 0s 645us/step - loss: 0.5004 - accuracy: 0.7604\n",
      "Epoch 135/150\n",
      "77/77 [==============================] - 0s 665us/step - loss: 0.4976 - accuracy: 0.7682\n",
      "Epoch 136/150\n",
      "77/77 [==============================] - 0s 658us/step - loss: 0.4801 - accuracy: 0.7799\n",
      "Epoch 137/150\n",
      "77/77 [==============================] - 0s 665us/step - loss: 0.4904 - accuracy: 0.7578\n",
      "Epoch 138/150\n",
      "77/77 [==============================] - 0s 691us/step - loss: 0.4860 - accuracy: 0.7669\n",
      "Epoch 139/150\n",
      "77/77 [==============================] - 0s 698us/step - loss: 0.4850 - accuracy: 0.7799\n",
      "Epoch 140/150\n",
      "77/77 [==============================] - 0s 678us/step - loss: 0.4864 - accuracy: 0.7708\n",
      "Epoch 141/150\n",
      "77/77 [==============================] - 0s 691us/step - loss: 0.4761 - accuracy: 0.7721\n",
      "Epoch 142/150\n",
      "77/77 [==============================] - 0s 684us/step - loss: 0.4807 - accuracy: 0.7799\n",
      "Epoch 143/150\n",
      "77/77 [==============================] - 0s 664us/step - loss: 0.4806 - accuracy: 0.7747\n",
      "Epoch 144/150\n",
      "77/77 [==============================] - 0s 684us/step - loss: 0.4828 - accuracy: 0.7799\n",
      "Epoch 145/150\n",
      "77/77 [==============================] - 0s 645us/step - loss: 0.4788 - accuracy: 0.7760\n",
      "Epoch 146/150\n",
      "77/77 [==============================] - 0s 625us/step - loss: 0.4892 - accuracy: 0.7721\n",
      "Epoch 147/150\n",
      "77/77 [==============================] - 0s 704us/step - loss: 0.4762 - accuracy: 0.7812\n",
      "Epoch 148/150\n",
      "77/77 [==============================] - 0s 704us/step - loss: 0.4780 - accuracy: 0.7891\n",
      "Epoch 149/150\n",
      "77/77 [==============================] - 0s 693us/step - loss: 0.4859 - accuracy: 0.7721\n",
      "Epoch 150/150\n",
      "77/77 [==============================] - 0s 699us/step - loss: 0.4765 - accuracy: 0.7773\n"
     ]
    },
    {
     "data": {
      "text/plain": [
       "<keras.callbacks.History at 0x11db5723400>"
      ]
     },
     "execution_count": 14,
     "metadata": {},
     "output_type": "execute_result"
    }
   ],
   "source": [
    "# fit the keras model on the dataset\n",
    "model.fit(X, y, epochs=150, batch_size=10)"
   ]
  },
  {
   "cell_type": "code",
   "execution_count": 15,
   "id": "3df8ef5a",
   "metadata": {},
   "outputs": [
    {
     "name": "stdout",
     "output_type": "stream",
     "text": [
      "24/24 [==============================] - 0s 740us/step - loss: 0.4847 - accuracy: 0.7799\n",
      "Accuracy: 77.99\n"
     ]
    }
   ],
   "source": [
    "# evaluate the keras model\n",
    "_, accuracy = model.evaluate(X, y)\n",
    "print('Accuracy: %.2f' % (accuracy*100))"
   ]
  },
  {
   "cell_type": "code",
   "execution_count": 16,
   "id": "0baeffe7",
   "metadata": {},
   "outputs": [
    {
     "name": "stdout",
     "output_type": "stream",
     "text": [
      "24/24 [==============================] - 0s 609us/step\n"
     ]
    }
   ],
   "source": [
    "# make probability predictions with the model\n",
    "predictions = model.predict(X)\n",
    "# round predictions \n",
    "rounded = [round(x[0]) for x in predictions]"
   ]
  },
  {
   "cell_type": "code",
   "execution_count": 17,
   "id": "773d68b3",
   "metadata": {},
   "outputs": [
    {
     "name": "stdout",
     "output_type": "stream",
     "text": [
      "24/24 [==============================] - 0s 631us/step\n"
     ]
    }
   ],
   "source": [
    "# make class predictions with the model\n",
    "predictions = (model.predict(X) > 0.5).astype(int)"
   ]
  },
  {
   "cell_type": "code",
   "execution_count": 19,
   "id": "c5ce28d4",
   "metadata": {},
   "outputs": [
    {
     "name": "stdout",
     "output_type": "stream",
     "text": [
      "24/24 [==============================] - 0s 565us/step\n",
      "[6.0, 148.0, 72.0, 35.0, 0.0, 33.6, 0.627, 50.0] => 1 (expected 1)\n",
      "[1.0, 85.0, 66.0, 29.0, 0.0, 26.6, 0.351, 31.0] => 0 (expected 0)\n",
      "[8.0, 183.0, 64.0, 0.0, 0.0, 23.3, 0.672, 32.0] => 1 (expected 1)\n",
      "[1.0, 89.0, 66.0, 23.0, 94.0, 28.1, 0.167, 21.0] => 0 (expected 0)\n",
      "[0.0, 137.0, 40.0, 35.0, 168.0, 43.1, 2.288, 33.0] => 1 (expected 1)\n"
     ]
    }
   ],
   "source": [
    "predictions = (model.predict(X) > 0.5).astype(int)\n",
    "# summarize the first 5 cases\n",
    "for i in range(5):\n",
    "\tprint('%s => %d (expected %d)' % (X[i].tolist(), predictions[i], y[i]))"
   ]
  },
  {
   "cell_type": "code",
   "execution_count": null,
   "id": "07333fc4",
   "metadata": {},
   "outputs": [],
   "source": []
  }
 ],
 "metadata": {
  "kernelspec": {
   "display_name": "Python 3 (ipykernel)",
   "language": "python",
   "name": "python3"
  },
  "language_info": {
   "codemirror_mode": {
    "name": "ipython",
    "version": 3
   },
   "file_extension": ".py",
   "mimetype": "text/x-python",
   "name": "python",
   "nbconvert_exporter": "python",
   "pygments_lexer": "ipython3",
   "version": "3.9.12"
  }
 },
 "nbformat": 4,
 "nbformat_minor": 5
}
