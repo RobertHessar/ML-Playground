{
 "cells": [
  {
   "cell_type": "markdown",
   "id": "49e8cc41-2356-42eb-b40d-117cbed0d2f6",
   "metadata": {},
   "source": [
    "Revealing the Invisible: Visualizing Missing Values in Ames Housing"
   ]
  },
  {
   "cell_type": "code",
   "execution_count": 1,
   "id": "b98b24be-ed17-4f35-8823-79e88d6a5dca",
   "metadata": {},
   "outputs": [
    {
     "ename": "ModuleNotFoundError",
     "evalue": "No module named 'pandas'",
     "output_type": "error",
     "traceback": [
      "\u001b[1;31m---------------------------------------------------------------------------\u001b[0m",
      "\u001b[1;31mModuleNotFoundError\u001b[0m                       Traceback (most recent call last)",
      "Cell \u001b[1;32mIn[1], line 1\u001b[0m\n\u001b[1;32m----> 1\u001b[0m \u001b[38;5;28;01mimport\u001b[39;00m \u001b[38;5;21;01mpandas\u001b[39;00m \u001b[38;5;28;01mas\u001b[39;00m \u001b[38;5;21;01mpd\u001b[39;00m\n",
      "\u001b[1;31mModuleNotFoundError\u001b[0m: No module named 'pandas'"
     ]
    }
   ],
   "source": [
    "import pandas as pd"
   ]
  },
  {
   "cell_type": "code",
   "execution_count": 3,
   "id": "505b5aec-c34a-47df-a5d9-07cb861568b9",
   "metadata": {},
   "outputs": [
    {
     "name": "stdout",
     "output_type": "stream",
     "text": [
      "Collecting pandas\n",
      "  Obtaining dependency information for pandas from https://files.pythonhosted.org/packages/c3/6c/ea362eef61f05553aaf1a24b3e96b2d0603f5dc71a3bd35688a24ed88843/pandas-2.0.3-cp38-cp38-win_amd64.whl.metadata\n",
      "  Downloading pandas-2.0.3-cp38-cp38-win_amd64.whl.metadata (18 kB)\n",
      "Requirement already satisfied: python-dateutil>=2.8.2 in c:\\users\\rob\\anaconda3\\envs\\tfcuda9\\lib\\site-packages (from pandas) (2.8.2)\n",
      "Requirement already satisfied: pytz>=2020.1 in c:\\users\\rob\\anaconda3\\envs\\tfcuda9\\lib\\site-packages (from pandas) (2023.3.post1)\n",
      "Collecting tzdata>=2022.1 (from pandas)\n",
      "  Obtaining dependency information for tzdata>=2022.1 from https://files.pythonhosted.org/packages/a3/fb/52b62131e21b24ee297e4e95ed41eba29647dad0e0051a92bb66b43c70ff/tzdata-2023.4-py2.py3-none-any.whl.metadata\n",
      "  Downloading tzdata-2023.4-py2.py3-none-any.whl.metadata (1.4 kB)\n",
      "Requirement already satisfied: numpy>=1.20.3 in c:\\users\\rob\\anaconda3\\envs\\tfcuda9\\lib\\site-packages (from pandas) (1.24.4)\n",
      "Requirement already satisfied: six>=1.5 in c:\\users\\rob\\anaconda3\\envs\\tfcuda9\\lib\\site-packages (from python-dateutil>=2.8.2->pandas) (1.16.0)\n",
      "Downloading pandas-2.0.3-cp38-cp38-win_amd64.whl (10.8 MB)\n",
      "   ---------------------------------------- 0.0/10.8 MB ? eta -:--:--\n",
      "   ---------------------------------------- 0.0/10.8 MB 960.0 kB/s eta 0:00:12\n",
      "   -- ------------------------------------- 0.7/10.8 MB 7.0 MB/s eta 0:00:02\n",
      "   ----- ---------------------------------- 1.4/10.8 MB 9.1 MB/s eta 0:00:02\n",
      "   ------- -------------------------------- 2.0/10.8 MB 9.8 MB/s eta 0:00:01\n",
      "   --------- ------------------------------ 2.6/10.8 MB 10.2 MB/s eta 0:00:01\n",
      "   ----------- ---------------------------- 3.0/10.8 MB 10.5 MB/s eta 0:00:01\n",
      "   ----------- ---------------------------- 3.1/10.8 MB 9.7 MB/s eta 0:00:01\n",
      "   ------------ --------------------------- 3.4/10.8 MB 9.0 MB/s eta 0:00:01\n",
      "   ------------- -------------------------- 3.6/10.8 MB 8.4 MB/s eta 0:00:01\n",
      "   -------------- ------------------------- 4.0/10.8 MB 8.3 MB/s eta 0:00:01\n",
      "   ----------------- ---------------------- 4.8/10.8 MB 8.7 MB/s eta 0:00:01\n",
      "   -------------------- ------------------- 5.6/10.8 MB 9.1 MB/s eta 0:00:01\n",
      "   ----------------------- ---------------- 6.3/10.8 MB 9.4 MB/s eta 0:00:01\n",
      "   ------------------------- -------------- 6.9/10.8 MB 9.6 MB/s eta 0:00:01\n",
      "   --------------------------- ------------ 7.5/10.8 MB 9.8 MB/s eta 0:00:01\n",
      "   ----------------------------- ---------- 8.1/10.8 MB 9.9 MB/s eta 0:00:01\n",
      "   -------------------------------- ------- 8.8/10.8 MB 10.1 MB/s eta 0:00:01\n",
      "   ---------------------------------- ----- 9.4/10.8 MB 10.2 MB/s eta 0:00:01\n",
      "   ------------------------------------- -- 10.0/10.8 MB 10.3 MB/s eta 0:00:01\n",
      "   ---------------------------------------  10.7/10.8 MB 10.7 MB/s eta 0:00:01\n",
      "   ---------------------------------------- 10.8/10.8 MB 10.6 MB/s eta 0:00:00\n",
      "Downloading tzdata-2023.4-py2.py3-none-any.whl (346 kB)\n",
      "   ---------------------------------------- 0.0/346.6 kB ? eta -:--:--\n",
      "   --------------------------------------- 346.6/346.6 kB 10.5 MB/s eta 0:00:00\n",
      "Installing collected packages: tzdata, pandas\n",
      "Successfully installed pandas-2.0.3 tzdata-2023.4\n"
     ]
    }
   ],
   "source": [
    "!pip install pandas"
   ]
  },
  {
   "cell_type": "code",
   "execution_count": null,
   "id": "27e10482-4d73-4ac0-9297-eb6d7ce1abea",
   "metadata": {},
   "outputs": [],
   "source": []
  }
 ],
 "metadata": {
  "kernelspec": {
   "display_name": "yogi-llm",
   "language": "python",
   "name": "cuda"
  },
  "language_info": {
   "codemirror_mode": {
    "name": "ipython",
    "version": 3
   },
   "file_extension": ".py",
   "mimetype": "text/x-python",
   "name": "python",
   "nbconvert_exporter": "python",
   "pygments_lexer": "ipython3",
   "version": "3.9.12"
  }
 },
 "nbformat": 4,
 "nbformat_minor": 5
}
